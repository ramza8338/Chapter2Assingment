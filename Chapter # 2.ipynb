{
 "cells": [
  {
   "cell_type": "markdown",
   "id": "84e62982",
   "metadata": {},
   "source": [
    "CHAPTER # 02"
   ]
  },
  {
   "cell_type": "code",
   "execution_count": 6,
   "id": "2cd09d6d",
   "metadata": {},
   "outputs": [
    {
     "name": "stdout",
     "output_type": "stream",
     "text": [
      "0.9359999999999999\n"
     ]
    }
   ],
   "source": [
    "x=0.6\n",
    "x = 3.9 * x * ( 1 - x )\n",
    "print(x)"
   ]
  },
  {
   "cell_type": "code",
   "execution_count": 7,
   "id": "bbe37aa5",
   "metadata": {},
   "outputs": [
    {
     "name": "stdout",
     "output_type": "stream",
     "text": [
      "4\n"
     ]
    }
   ],
   "source": [
    "xx = 2\n",
    "xx = xx + 2\n",
    "print(xx)"
   ]
  },
  {
   "cell_type": "code",
   "execution_count": 8,
   "id": "f89eca91",
   "metadata": {},
   "outputs": [
    {
     "name": "stdout",
     "output_type": "stream",
     "text": [
      "5280\n"
     ]
    }
   ],
   "source": [
    "yy = 440 * 12\n",
    "print(yy)"
   ]
  },
  {
   "cell_type": "code",
   "execution_count": 9,
   "id": "5bfda3ff",
   "metadata": {},
   "outputs": [
    {
     "name": "stdout",
     "output_type": "stream",
     "text": [
      "5.28\n"
     ]
    }
   ],
   "source": [
    "zz = yy / 1000\n",
    "print(zz)"
   ]
  },
  {
   "cell_type": "code",
   "execution_count": 10,
   "id": "8194650a",
   "metadata": {},
   "outputs": [
    {
     "name": "stdout",
     "output_type": "stream",
     "text": [
      "3\n"
     ]
    }
   ],
   "source": [
    "jj = 23\n",
    "kk = jj % 5\n",
    "print(kk)"
   ]
  },
  {
   "cell_type": "code",
   "execution_count": 11,
   "id": "ee696e7b",
   "metadata": {},
   "outputs": [
    {
     "name": "stdout",
     "output_type": "stream",
     "text": [
      "64\n"
     ]
    }
   ],
   "source": [
    "print(4 ** 3)"
   ]
  },
  {
   "cell_type": "code",
   "execution_count": 13,
   "id": "a4bce16c",
   "metadata": {},
   "outputs": [
    {
     "name": "stdout",
     "output_type": "stream",
     "text": [
      "6.999744\n"
     ]
    }
   ],
   "source": [
    "xy = 1 + 2 * 3 - 4 / 5 ** 6\n",
    "print(xy)"
   ]
  },
  {
   "cell_type": "code",
   "execution_count": 14,
   "id": "592850e1",
   "metadata": {},
   "outputs": [
    {
     "name": "stdout",
     "output_type": "stream",
     "text": [
      "11.0\n"
     ]
    }
   ],
   "source": [
    "x = 1 + 2 ** 3 / 4 * 5\n",
    "print(x)"
   ]
  },
  {
   "cell_type": "code",
   "execution_count": 15,
   "id": "33035f76",
   "metadata": {},
   "outputs": [
    {
     "name": "stdout",
     "output_type": "stream",
     "text": [
      "5\n"
     ]
    }
   ],
   "source": [
    "ddd=1+4\n",
    "print(ddd)"
   ]
  },
  {
   "cell_type": "code",
   "execution_count": 16,
   "id": "6959f3d5",
   "metadata": {},
   "outputs": [
    {
     "name": "stdout",
     "output_type": "stream",
     "text": [
      "hello there\n"
     ]
    }
   ],
   "source": [
    "rrr='hello '+'there'\n",
    "print(rrr)"
   ]
  },
  {
   "cell_type": "code",
   "execution_count": 26,
   "id": "d79f857c",
   "metadata": {},
   "outputs": [
    {
     "data": {
      "text/plain": [
       "int"
      ]
     },
     "execution_count": 26,
     "metadata": {},
     "output_type": "execute_result"
    }
   ],
   "source": [
    "xx=6987\n",
    "type (xx)"
   ]
  },
  {
   "cell_type": "code",
   "execution_count": 25,
   "id": "e5922cfd",
   "metadata": {},
   "outputs": [
    {
     "data": {
      "text/plain": [
       "float"
      ]
     },
     "execution_count": 25,
     "metadata": {},
     "output_type": "execute_result"
    }
   ],
   "source": [
    "yy=987.6\n",
    "type (yy)"
   ]
  },
  {
   "cell_type": "code",
   "execution_count": 27,
   "id": "76e371f1",
   "metadata": {},
   "outputs": [
    {
     "data": {
      "text/plain": [
       "int"
      ]
     },
     "execution_count": 27,
     "metadata": {},
     "output_type": "execute_result"
    }
   ],
   "source": [
    "type(1)"
   ]
  },
  {
   "cell_type": "code",
   "execution_count": 28,
   "id": "0f14c5ba",
   "metadata": {},
   "outputs": [
    {
     "data": {
      "text/plain": [
       "float"
      ]
     },
     "execution_count": 28,
     "metadata": {},
     "output_type": "execute_result"
    }
   ],
   "source": [
    "type(9.7)"
   ]
  },
  {
   "cell_type": "code",
   "execution_count": 29,
   "id": "2a4ce5be",
   "metadata": {},
   "outputs": [
    {
     "name": "stdout",
     "output_type": "stream",
     "text": [
      "199.0\n"
     ]
    }
   ],
   "source": [
    "print(float(99)+100)"
   ]
  },
  {
   "cell_type": "code",
   "execution_count": 30,
   "id": "5211eed8",
   "metadata": {},
   "outputs": [
    {
     "data": {
      "text/plain": [
       "int"
      ]
     },
     "execution_count": 30,
     "metadata": {},
     "output_type": "execute_result"
    }
   ],
   "source": [
    "i=42\n",
    "type(i)"
   ]
  },
  {
   "cell_type": "code",
   "execution_count": 31,
   "id": "b53f0219",
   "metadata": {},
   "outputs": [
    {
     "name": "stdout",
     "output_type": "stream",
     "text": [
      "42.0\n"
     ]
    }
   ],
   "source": [
    "i=42\n",
    "type(i)\n",
    "f=float(i)\n",
    "print(f)"
   ]
  },
  {
   "cell_type": "code",
   "execution_count": 33,
   "id": "6a33042d",
   "metadata": {},
   "outputs": [
    {
     "name": "stdout",
     "output_type": "stream",
     "text": [
      "5.0\n",
      "4.5\n",
      "0.99\n",
      "5.0\n",
      "0.99\n"
     ]
    }
   ],
   "source": [
    "print(10/2)\n",
    "print(9/2)\n",
    "print(99/100)\n",
    "print(10.0/2.0)\n",
    "print(99.0/100.0)"
   ]
  },
  {
   "cell_type": "code",
   "execution_count": 34,
   "id": "ed5aefcb",
   "metadata": {},
   "outputs": [
    {
     "name": "stdout",
     "output_type": "stream",
     "text": [
      "125\n"
     ]
    }
   ],
   "source": [
    "pval='123'\n",
    "qval=int(pval)\n",
    "rval=qval+2\n",
    "print(rval)"
   ]
  },
  {
   "cell_type": "code",
   "execution_count": 37,
   "id": "33872798",
   "metadata": {},
   "outputs": [
    {
     "name": "stdout",
     "output_type": "stream",
     "text": [
      "How are you? Ramza\n",
      "welcome  Ramza !\n"
     ]
    }
   ],
   "source": [
    "nam=input('How are you? ')\n",
    "print('welcome ',nam,'!')"
   ]
  },
  {
   "cell_type": "code",
   "execution_count": 41,
   "id": "3882c96e",
   "metadata": {},
   "outputs": [
    {
     "name": "stdout",
     "output_type": "stream",
     "text": [
      "Enter floor number 0\n",
      "Reached on upper floor  1\n"
     ]
    }
   ],
   "source": [
    "aa=input('Enter floor number ')\n",
    "bb=int(aa)+1\n",
    "print('Reached on upper floor ',bb)"
   ]
  },
  {
   "cell_type": "code",
   "execution_count": 44,
   "id": "65676acc",
   "metadata": {},
   "outputs": [
    {
     "name": "stdout",
     "output_type": "stream",
     "text": [
      "70\n"
     ]
    }
   ],
   "source": [
    "Hours=35\n",
    "PerHourRate=2.75\n",
    "GrossPay=int(PerHourRate)*Hours\n",
    "print(GrossPay) "
   ]
  },
  {
   "cell_type": "code",
   "execution_count": 48,
   "id": "c6ad016e",
   "metadata": {},
   "outputs": [
    {
     "name": "stdout",
     "output_type": "stream",
     "text": [
      "Enter Working Hours 3\n",
      "Enter Rate per Hour 60\n",
      "Gross pay  180\n"
     ]
    }
   ],
   "source": [
    "x=input(\"Enter Working Hours \")\n",
    "y=input(\"Enter Rate per Hour \")\n",
    "xx=int(x)\n",
    "yy=int(y)\n",
    "pay=xx*yy\n",
    "print('Gross pay ',pay)"
   ]
  },
  {
   "cell_type": "code",
   "execution_count": null,
   "id": "a6d1578d",
   "metadata": {},
   "outputs": [],
   "source": []
  },
  {
   "cell_type": "code",
   "execution_count": null,
   "id": "7d73c36e",
   "metadata": {},
   "outputs": [],
   "source": []
  }
 ],
 "metadata": {
  "kernelspec": {
   "display_name": "Python 3 (ipykernel)",
   "language": "python",
   "name": "python3"
  },
  "language_info": {
   "codemirror_mode": {
    "name": "ipython",
    "version": 3
   },
   "file_extension": ".py",
   "mimetype": "text/x-python",
   "name": "python",
   "nbconvert_exporter": "python",
   "pygments_lexer": "ipython3",
   "version": "3.9.13"
  }
 },
 "nbformat": 4,
 "nbformat_minor": 5
}
